{
 "cells": [
  {
   "cell_type": "code",
   "execution_count": 1,
   "metadata": {},
   "outputs": [],
   "source": [
    "import sys\n",
    "import cv2 as cv\n",
    "import numpy as np"
   ]
  },
  {
   "cell_type": "code",
   "execution_count": 2,
   "metadata": {},
   "outputs": [],
   "source": [
    "# General params\n",
    "FONT = cv.FONT_HERSHEY_SIMPLEX\n",
    "HSV_MIN = (0, 129, 180)\n",
    "HSV_MAX = (189, 206, 255)\n",
    "\n",
    "# Blob params\n",
    "PARAMS = cv.SimpleBlobDetector_Params()\n",
    "        \n",
    "PARAMS.minThreshold = 0\n",
    "PARAMS.maxThreshold = 100\n",
    "\n",
    "PARAMS.filterByArea = True\n",
    "PARAMS.minArea = 400\n",
    "PARAMS.maxArea = 20000\n",
    "\n",
    "PARAMS.filterByCircularity = False\n",
    "PARAMS.minCircularity = 0.1\n",
    "\n",
    "PARAMS.filterByConvexity = False\n",
    "PARAMS.minConvexity = 0.5\n",
    "\n",
    "PARAMS.filterByInertia = False\n",
    "PARAMS.minInertiaRatio = 0.5"
   ]
  },
  {
   "cell_type": "code",
   "execution_count": 3,
   "metadata": {},
   "outputs": [],
   "source": [
    "def blob_detector(frame, HSV_MIN, HSV_MAX, PARAMS):\n",
    "    # hsv frame\n",
    "    hsvFrame = cv.cvtColor(frame, cv.COLOR_BGR2HSV)\n",
    "    \n",
    "    # Generating mask\n",
    "    mask = cv.inRange(hsvFrame, HSV_MIN, HSV_MAX)\n",
    "    # Eroding and Dilating\n",
    "    mask = cv.erode(mask, None, iterations=3)\n",
    "    mask = cv.dilate(mask, None, iterations=3)\n",
    "    # Inverting the mask\n",
    "    # The function needs a black blob on a white background\n",
    "    reversedMask = 255 - mask\n",
    "    \n",
    "    # Blob detector\n",
    "    detector = cv.SimpleBlobDetector_create(PARAMS)\n",
    "    \n",
    "    # Run blob detection\n",
    "    keypoints = detector.detect(reversedMask)\n",
    "    \n",
    "    # Draw blobs\n",
    "    if keypoints:\n",
    "        # X position\n",
    "        xBlob = keypoints[0].pt[0]\n",
    "        xText = 'x=' + '{:.2f}'.format(xBlob)\n",
    "        cv.putText(frame, xText, (5,50), FONT, 1, (0, 255, 0), 2)\n",
    "        \n",
    "        # Y Position\n",
    "        yBlob = keypoints[0].pt[1]\n",
    "        yText = 'y=' + '{:.2f}'.format(yBlob)\n",
    "        cv.putText(frame, yText, (5,75), FONT, 1, (0, 255, 0), 2)\n",
    "        \n",
    "        # Pointing out the centre of the object\n",
    "        blobSize = keypoints[0].size\n",
    "        cv.circle(frame, (int(xBlob),int(yBlob)), int(blobSize/2), (0, 255, 0), 2)\n",
    "        \n",
    "    return frame"
   ]
  },
  {
   "cell_type": "code",
   "execution_count": 4,
   "metadata": {},
   "outputs": [],
   "source": [
    "def main():\n",
    "    cv.namedWindow(\"Blob Detection\", cv.WINDOW_AUTOSIZE)\n",
    "    \n",
    "    cap = cv.VideoCapture(0)\n",
    "\n",
    "    while True:\n",
    "        # Getting frame\n",
    "        _, camFrame = cap.read()\n",
    "        resultFrame = blob_detector(camFrame, HSV_MIN, HSV_MAX, PARAMS)\n",
    "\n",
    "        cv.imshow(\"Blob Detection\", resultFrame)\n",
    "\n",
    "        if cv.waitKey(1) & 0xFF == ord('q'):\n",
    "            break\n",
    "\n",
    "    cap.release()\n",
    "    cv.destroyAllWindows()"
   ]
  },
  {
   "cell_type": "code",
   "execution_count": 5,
   "metadata": {},
   "outputs": [],
   "source": [
    "if __name__ == \"__main__\":\n",
    "    main()"
   ]
  },
  {
   "cell_type": "code",
   "execution_count": null,
   "metadata": {},
   "outputs": [],
   "source": []
  }
 ],
 "metadata": {
  "kernelspec": {
   "display_name": "Python 3",
   "language": "python",
   "name": "python3"
  },
  "language_info": {
   "codemirror_mode": {
    "name": "ipython",
    "version": 3
   },
   "file_extension": ".py",
   "mimetype": "text/x-python",
   "name": "python",
   "nbconvert_exporter": "python",
   "pygments_lexer": "ipython3",
   "version": "3.8.5"
  }
 },
 "nbformat": 4,
 "nbformat_minor": 4
}
