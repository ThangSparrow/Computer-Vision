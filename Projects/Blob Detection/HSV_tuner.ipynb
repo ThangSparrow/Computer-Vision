{
 "cells": [
  {
   "cell_type": "code",
   "execution_count": 1,
   "metadata": {},
   "outputs": [],
   "source": [
    "import cv2 as cv\n",
    "import numpy as np"
   ]
  },
  {
   "cell_type": "code",
   "execution_count": 2,
   "metadata": {},
   "outputs": [],
   "source": [
    "# Callback function from trackbar\n",
    "def trackbar_callback(self):\n",
    "    pass"
   ]
  },
  {
   "cell_type": "code",
   "execution_count": 3,
   "metadata": {},
   "outputs": [],
   "source": [
    "windowName = \"HSV Tuner\"\n",
    "cv.namedWindow(windowName)\n",
    "\n",
    "cv.createTrackbar(\"LH\", windowName, 0, 255, trackbar_callback)\n",
    "cv.createTrackbar(\"LS\", windowName, 0, 255, trackbar_callback)\n",
    "cv.createTrackbar(\"LV\", windowName, 0, 255, trackbar_callback)\n",
    "cv.createTrackbar(\"UH\", windowName, 0, 255, trackbar_callback)\n",
    "cv.createTrackbar(\"US\", windowName, 0, 255, trackbar_callback)\n",
    "cv.createTrackbar(\"UV\", windowName, 0, 255, trackbar_callback)\n"
   ]
  },
  {
   "cell_type": "code",
   "execution_count": 4,
   "metadata": {},
   "outputs": [],
   "source": [
    "def main():\n",
    "    cap = cv.VideoCapture(0)\n",
    "    cv.namedWindow(\"Input\", cv.WINDOW_AUTOSIZE)\n",
    "    cv.namedWindow(\"Output\", cv.WINDOW_AUTOSIZE)\n",
    "    \n",
    "    while True:\n",
    "        _, camFrame = cap.read()    \n",
    "        \n",
    "        # Convert to HSV color space\n",
    "        hsvFrame = cv.cvtColor(camFrame, cv.COLOR_BGR2HSV)\n",
    "        \n",
    "        # Read the trackbar values\n",
    "        lh = cv.getTrackbarPos(\"LH\", windowName)\n",
    "        ls = cv.getTrackbarPos(\"LS\", windowName)\n",
    "        lv = cv.getTrackbarPos(\"LV\", windowName)\n",
    "        uh = cv.getTrackbarPos(\"UH\", windowName)\n",
    "        us = cv.getTrackbarPos(\"US\", windowName)\n",
    "        uv = cv.getTrackbarPos(\"UV\", windowName)\n",
    "        \n",
    "        hsvMin = np.array([lh, ls, lv])\n",
    "        hsvMax = np.array([uh, us, uv])\n",
    "        \n",
    "        # HSV thresholds\n",
    "        mask = cv.inRange(hsvFrame, hsvMin, hsvMax)\n",
    "        \n",
    "        # Eroding and dilating\n",
    "        mask = cv.erode(mask, None, iterations=3)\n",
    "        mask = cv.dilate(mask, None, iterations=3)\n",
    "        \n",
    "        # Wearing the mask ;)\n",
    "        maskedFrame = cv.bitwise_and(hsvFrame, hsvFrame, mask=mask)\n",
    "        \n",
    "        # Display the screen\n",
    "        cv.imshow(\"Input\", camFrame)\n",
    "        cv.imshow(\"Output\", maskedFrame)\n",
    "        \n",
    "        if cv.waitKey(1) & 0xFF == ord('q'):\n",
    "            print(\"hsvMin: \", hsvMin)\n",
    "            print(\"hsvMax: \", hsvMax)\n",
    "            break\n",
    "            \n",
    "    cap.release()\n",
    "    cv.destroyAllWindows()\n",
    "        "
   ]
  },
  {
   "cell_type": "code",
   "execution_count": 5,
   "metadata": {},
   "outputs": [
    {
     "name": "stdout",
     "output_type": "stream",
     "text": [
      "hsvMin:  [  0 129 180]\n",
      "hsvMax:  [189 206 255]\n"
     ]
    }
   ],
   "source": [
    "if __name__ == \"__main__\":\n",
    "    main()"
   ]
  },
  {
   "cell_type": "code",
   "execution_count": null,
   "metadata": {},
   "outputs": [],
   "source": []
  }
 ],
 "metadata": {
  "kernelspec": {
   "display_name": "Python 3",
   "language": "python",
   "name": "python3"
  },
  "language_info": {
   "codemirror_mode": {
    "name": "ipython",
    "version": 3
   },
   "file_extension": ".py",
   "mimetype": "text/x-python",
   "name": "python",
   "nbconvert_exporter": "python",
   "pygments_lexer": "ipython3",
   "version": "3.8.5"
  }
 },
 "nbformat": 4,
 "nbformat_minor": 4
}
