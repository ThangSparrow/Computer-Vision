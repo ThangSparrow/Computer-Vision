{
 "cells": [
  {
   "cell_type": "code",
   "execution_count": null,
   "metadata": {},
   "outputs": [],
   "source": [
    "import cv2 as cv\n",
    "import numpy as np\n",
    "import imutils"
   ]
  },
  {
   "cell_type": "code",
   "execution_count": null,
   "metadata": {},
   "outputs": [],
   "source": [
    "def main():\n",
    "    cap = cv.VideoCapture(0)\n",
    "    sourceWindow = 'Source'\n",
    "    cv.namedWindow(sourceWindow)\n",
    "    \n",
    "    while True:\n",
    "        _, camFrame = cap.read()\n",
    "        #camFrame = cv.imread('shapes_and_colors.jpg')\n",
    "        cv.imshow(sourceWindow, camFrame)\n",
    "        \n",
    "        grayFrame = cv.cvtColor(camFrame, cv.COLOR_BGR2GRAY)\n",
    "        _, _, redFrame = cv.split(camFrame)\n",
    "        grayFrame = cv.subtract(redFrame, grayFrame)\n",
    "        #grayFrame = cv.GaussianBlur(grayFrame, (5,5),0)\n",
    "        _, grayFrame = cv.threshold(grayFrame, 90, 255, cv.THRESH_BINARY)\n",
    "        \n",
    "        kernel = np.ones((5,5), np.uint8)\n",
    "        \n",
    "        grayFrame = cv.erode(grayFrame, kernel, \n",
    "                             anchor=(-1, -1), iterations=4)\n",
    "        grayFrame = cv.dilate(grayFrame, kernel, \n",
    "                              anchor=(-1, -1), iterations=4)\n",
    "\n",
    "        contours, _ = cv.findContours(grayFrame, \n",
    "                                      cv.RETR_EXTERNAL, \n",
    "                                      cv.CHAIN_APPROX_SIMPLE)\n",
    "        \n",
    "        # Getting contours rects\n",
    "        boundRect = []\n",
    "        contor_poly = []\n",
    "        for contour in contours:\n",
    "            contor_poly.append(cv.approxPolyDP(contour, 3, True))\n",
    "            boundRect.append(cv.boundingRect(contor_poly[len(contor_poly) - 1]))\n",
    "\n",
    "        # Getting the rect with the maximum area\n",
    "        max_index = 0\n",
    "        max_area = 0\n",
    "\n",
    "        for i in range(len(boundRect)):\n",
    "            a = boundRect[i][1] * boundRect[i][2]\n",
    "\n",
    "            cv.rectangle(camFrame, (boundRect[i][0], boundRect[i][1]), (boundRect[i][0] + boundRect[i][2], boundRect[i][1] + boundRect[i][3]), [255, 255, 0], 2, 8, 0)\n",
    "\n",
    "            if a > max_area:\n",
    "                max_area = a\n",
    "                max_index = i\n",
    "        \n",
    "        cv.imshow('Contours', camFrame)\n",
    "        if cv.waitKey(10) & 0xFF == ord('q'):\n",
    "            break\n",
    "            \n",
    "    cap.release()\n",
    "    cv.destroyAllWindows()"
   ]
  },
  {
   "cell_type": "code",
   "execution_count": null,
   "metadata": {},
   "outputs": [],
   "source": [
    "if __name__ == \"__main__\":\n",
    "    main()"
   ]
  }
 ],
 "metadata": {
  "kernelspec": {
   "display_name": "Python 3",
   "language": "python",
   "name": "python3"
  },
  "language_info": {
   "codemirror_mode": {
    "name": "ipython",
    "version": 3
   },
   "file_extension": ".py",
   "mimetype": "text/x-python",
   "name": "python",
   "nbconvert_exporter": "python",
   "pygments_lexer": "ipython3",
   "version": "3.8.5"
  }
 },
 "nbformat": 4,
 "nbformat_minor": 4
}
