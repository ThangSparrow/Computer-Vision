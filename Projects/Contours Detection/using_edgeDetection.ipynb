{
 "cells": [
  {
   "cell_type": "code",
   "execution_count": 1,
   "metadata": {},
   "outputs": [],
   "source": [
    "import cv2 as cv\n",
    "import numpy as np\n",
    "import imutils"
   ]
  },
  {
   "cell_type": "code",
   "execution_count": 2,
   "metadata": {},
   "outputs": [],
   "source": [
    "def thresh_callback(val, grayFrame):\n",
    "    threshold = val\n",
    "    \n",
    "    cannyFrame = cv.Canny(grayFrame, threshold, threshold+20)\n",
    "    \n",
    "    contours, _ = cv.findContours(cannyFrame, \n",
    "                                     cv.RETR_TREE,\n",
    "                                     cv.CHAIN_APPROX_SIMPLE)\n",
    "    \n",
    "    # Drawing contours\n",
    "    contours_poly = [None]*len(contours)\n",
    "    boundRect = [None]*len(contours)\n",
    "    centers = [None]*len(contours)\n",
    "    radius = [None]*len(contours)\n",
    "    for i,c in enumerate(contours):\n",
    "        contours_poly[i] = cv.approxPolyDP(c, 3, True)\n",
    "        boundRect[i] = cv.boundingRect(contours_poly[i])\n",
    "        centers[i], radius[i] = cv.minEnclosingCircle(contours_poly[i])\n",
    "    \n",
    "    resultFrame = np.zeros((cannyFrame.shape[0], cannyFrame.shape[1], 3),\n",
    "                       dtype=np.uint8)\n",
    "    \n",
    "    for i in range(len(contours)):\n",
    "        cv.drawContours(resultFrame, contours_poly, i, (0, 255, 0), 2)\n",
    "    '''\n",
    "    resultFrame = np.zeros((cannyFrame.shape[0], cannyFrame.shape[1], 3),\n",
    "                       dtype=np.uint8)\n",
    "    cv.drawContours(resultFrame, contours, -1, (0, 255, 0), 2)\n",
    "    '''\n",
    "    return resultFrame"
   ]
  },
  {
   "cell_type": "code",
   "execution_count": 3,
   "metadata": {},
   "outputs": [],
   "source": [
    "def main():\n",
    "    cap = cv.VideoCapture(0)\n",
    "    sourceWindow = 'Source'\n",
    "    cv.namedWindow(sourceWindow)\n",
    "    \n",
    "    max_thresh = 255\n",
    "    thresh = 50 # initial threshold\n",
    "    cv.createTrackbar('Canny thresh:', sourceWindow, thresh, max_thresh, thresh_callback)\n",
    "    while True:\n",
    "        _, camFrame = cap.read()\n",
    "        #camFrame = cv.imread('shapes_and_colors.jpg')\n",
    "        cv.imshow(sourceWindow, camFrame)\n",
    "        \n",
    "        grayFrame = cv.cvtColor(camFrame, cv.COLOR_BGR2GRAY)\n",
    "        grayFrame = cv.GaussianBlur(grayFrame, (5,5),0)\n",
    "\n",
    "        thresh = cv.getTrackbarPos('Canny thresh:' ,sourceWindow)\n",
    "        \n",
    "        resultFrame = thresh_callback(thresh, grayFrame)\n",
    "        cv.imshow('Contours', resultFrame)\n",
    "        if cv.waitKey(10) & 0xFF == ord('q'):\n",
    "            break\n",
    "            \n",
    "    cap.release()\n",
    "    cv.destroyAllWindows()"
   ]
  },
  {
   "cell_type": "code",
   "execution_count": 4,
   "metadata": {},
   "outputs": [
    {
     "ename": "TypeError",
     "evalue": "thresh_callback() missing 1 required positional argument: 'grayFrame'",
     "output_type": "error",
     "traceback": [
      "\u001b[1;31m---------------------------------------------------------------------------\u001b[0m",
      "\u001b[1;31mTypeError\u001b[0m                                 Traceback (most recent call last)",
      "\u001b[1;31mTypeError\u001b[0m: thresh_callback() missing 1 required positional argument: 'grayFrame'"
     ]
    },
    {
     "ename": "TypeError",
     "evalue": "thresh_callback() missing 1 required positional argument: 'grayFrame'",
     "output_type": "error",
     "traceback": [
      "\u001b[1;31m---------------------------------------------------------------------------\u001b[0m",
      "\u001b[1;31mTypeError\u001b[0m                                 Traceback (most recent call last)",
      "\u001b[1;31mTypeError\u001b[0m: thresh_callback() missing 1 required positional argument: 'grayFrame'"
     ]
    },
    {
     "ename": "TypeError",
     "evalue": "thresh_callback() missing 1 required positional argument: 'grayFrame'",
     "output_type": "error",
     "traceback": [
      "\u001b[1;31m---------------------------------------------------------------------------\u001b[0m",
      "\u001b[1;31mTypeError\u001b[0m                                 Traceback (most recent call last)",
      "\u001b[1;31mTypeError\u001b[0m: thresh_callback() missing 1 required positional argument: 'grayFrame'"
     ]
    },
    {
     "ename": "TypeError",
     "evalue": "thresh_callback() missing 1 required positional argument: 'grayFrame'",
     "output_type": "error",
     "traceback": [
      "\u001b[1;31m---------------------------------------------------------------------------\u001b[0m",
      "\u001b[1;31mTypeError\u001b[0m                                 Traceback (most recent call last)",
      "\u001b[1;31mTypeError\u001b[0m: thresh_callback() missing 1 required positional argument: 'grayFrame'"
     ]
    },
    {
     "ename": "TypeError",
     "evalue": "thresh_callback() missing 1 required positional argument: 'grayFrame'",
     "output_type": "error",
     "traceback": [
      "\u001b[1;31m---------------------------------------------------------------------------\u001b[0m",
      "\u001b[1;31mTypeError\u001b[0m                                 Traceback (most recent call last)",
      "\u001b[1;31mTypeError\u001b[0m: thresh_callback() missing 1 required positional argument: 'grayFrame'"
     ]
    },
    {
     "ename": "TypeError",
     "evalue": "thresh_callback() missing 1 required positional argument: 'grayFrame'",
     "output_type": "error",
     "traceback": [
      "\u001b[1;31m---------------------------------------------------------------------------\u001b[0m",
      "\u001b[1;31mTypeError\u001b[0m                                 Traceback (most recent call last)",
      "\u001b[1;31mTypeError\u001b[0m: thresh_callback() missing 1 required positional argument: 'grayFrame'"
     ]
    },
    {
     "ename": "TypeError",
     "evalue": "thresh_callback() missing 1 required positional argument: 'grayFrame'",
     "output_type": "error",
     "traceback": [
      "\u001b[1;31m---------------------------------------------------------------------------\u001b[0m",
      "\u001b[1;31mTypeError\u001b[0m                                 Traceback (most recent call last)",
      "\u001b[1;31mTypeError\u001b[0m: thresh_callback() missing 1 required positional argument: 'grayFrame'"
     ]
    },
    {
     "ename": "TypeError",
     "evalue": "thresh_callback() missing 1 required positional argument: 'grayFrame'",
     "output_type": "error",
     "traceback": [
      "\u001b[1;31m---------------------------------------------------------------------------\u001b[0m",
      "\u001b[1;31mTypeError\u001b[0m                                 Traceback (most recent call last)",
      "\u001b[1;31mTypeError\u001b[0m: thresh_callback() missing 1 required positional argument: 'grayFrame'"
     ]
    },
    {
     "ename": "TypeError",
     "evalue": "thresh_callback() missing 1 required positional argument: 'grayFrame'",
     "output_type": "error",
     "traceback": [
      "\u001b[1;31m---------------------------------------------------------------------------\u001b[0m",
      "\u001b[1;31mTypeError\u001b[0m                                 Traceback (most recent call last)",
      "\u001b[1;31mTypeError\u001b[0m: thresh_callback() missing 1 required positional argument: 'grayFrame'"
     ]
    },
    {
     "ename": "TypeError",
     "evalue": "thresh_callback() missing 1 required positional argument: 'grayFrame'",
     "output_type": "error",
     "traceback": [
      "\u001b[1;31m---------------------------------------------------------------------------\u001b[0m",
      "\u001b[1;31mTypeError\u001b[0m                                 Traceback (most recent call last)",
      "\u001b[1;31mTypeError\u001b[0m: thresh_callback() missing 1 required positional argument: 'grayFrame'"
     ]
    },
    {
     "ename": "TypeError",
     "evalue": "thresh_callback() missing 1 required positional argument: 'grayFrame'",
     "output_type": "error",
     "traceback": [
      "\u001b[1;31m---------------------------------------------------------------------------\u001b[0m",
      "\u001b[1;31mTypeError\u001b[0m                                 Traceback (most recent call last)",
      "\u001b[1;31mTypeError\u001b[0m: thresh_callback() missing 1 required positional argument: 'grayFrame'"
     ]
    },
    {
     "ename": "TypeError",
     "evalue": "thresh_callback() missing 1 required positional argument: 'grayFrame'",
     "output_type": "error",
     "traceback": [
      "\u001b[1;31m---------------------------------------------------------------------------\u001b[0m",
      "\u001b[1;31mTypeError\u001b[0m                                 Traceback (most recent call last)",
      "\u001b[1;31mTypeError\u001b[0m: thresh_callback() missing 1 required positional argument: 'grayFrame'"
     ]
    },
    {
     "ename": "TypeError",
     "evalue": "thresh_callback() missing 1 required positional argument: 'grayFrame'",
     "output_type": "error",
     "traceback": [
      "\u001b[1;31m---------------------------------------------------------------------------\u001b[0m",
      "\u001b[1;31mTypeError\u001b[0m                                 Traceback (most recent call last)",
      "\u001b[1;31mTypeError\u001b[0m: thresh_callback() missing 1 required positional argument: 'grayFrame'"
     ]
    },
    {
     "ename": "TypeError",
     "evalue": "thresh_callback() missing 1 required positional argument: 'grayFrame'",
     "output_type": "error",
     "traceback": [
      "\u001b[1;31m---------------------------------------------------------------------------\u001b[0m",
      "\u001b[1;31mTypeError\u001b[0m                                 Traceback (most recent call last)",
      "\u001b[1;31mTypeError\u001b[0m: thresh_callback() missing 1 required positional argument: 'grayFrame'"
     ]
    },
    {
     "ename": "TypeError",
     "evalue": "thresh_callback() missing 1 required positional argument: 'grayFrame'",
     "output_type": "error",
     "traceback": [
      "\u001b[1;31m---------------------------------------------------------------------------\u001b[0m",
      "\u001b[1;31mTypeError\u001b[0m                                 Traceback (most recent call last)",
      "\u001b[1;31mTypeError\u001b[0m: thresh_callback() missing 1 required positional argument: 'grayFrame'"
     ]
    },
    {
     "ename": "TypeError",
     "evalue": "thresh_callback() missing 1 required positional argument: 'grayFrame'",
     "output_type": "error",
     "traceback": [
      "\u001b[1;31m---------------------------------------------------------------------------\u001b[0m",
      "\u001b[1;31mTypeError\u001b[0m                                 Traceback (most recent call last)",
      "\u001b[1;31mTypeError\u001b[0m: thresh_callback() missing 1 required positional argument: 'grayFrame'"
     ]
    },
    {
     "ename": "TypeError",
     "evalue": "thresh_callback() missing 1 required positional argument: 'grayFrame'",
     "output_type": "error",
     "traceback": [
      "\u001b[1;31m---------------------------------------------------------------------------\u001b[0m",
      "\u001b[1;31mTypeError\u001b[0m                                 Traceback (most recent call last)",
      "\u001b[1;31mTypeError\u001b[0m: thresh_callback() missing 1 required positional argument: 'grayFrame'"
     ]
    },
    {
     "ename": "TypeError",
     "evalue": "thresh_callback() missing 1 required positional argument: 'grayFrame'",
     "output_type": "error",
     "traceback": [
      "\u001b[1;31m---------------------------------------------------------------------------\u001b[0m",
      "\u001b[1;31mTypeError\u001b[0m                                 Traceback (most recent call last)",
      "\u001b[1;31mTypeError\u001b[0m: thresh_callback() missing 1 required positional argument: 'grayFrame'"
     ]
    },
    {
     "ename": "TypeError",
     "evalue": "thresh_callback() missing 1 required positional argument: 'grayFrame'",
     "output_type": "error",
     "traceback": [
      "\u001b[1;31m---------------------------------------------------------------------------\u001b[0m",
      "\u001b[1;31mTypeError\u001b[0m                                 Traceback (most recent call last)",
      "\u001b[1;31mTypeError\u001b[0m: thresh_callback() missing 1 required positional argument: 'grayFrame'"
     ]
    },
    {
     "ename": "TypeError",
     "evalue": "thresh_callback() missing 1 required positional argument: 'grayFrame'",
     "output_type": "error",
     "traceback": [
      "\u001b[1;31m---------------------------------------------------------------------------\u001b[0m",
      "\u001b[1;31mTypeError\u001b[0m                                 Traceback (most recent call last)",
      "\u001b[1;31mTypeError\u001b[0m: thresh_callback() missing 1 required positional argument: 'grayFrame'"
     ]
    },
    {
     "ename": "TypeError",
     "evalue": "thresh_callback() missing 1 required positional argument: 'grayFrame'",
     "output_type": "error",
     "traceback": [
      "\u001b[1;31m---------------------------------------------------------------------------\u001b[0m",
      "\u001b[1;31mTypeError\u001b[0m                                 Traceback (most recent call last)",
      "\u001b[1;31mTypeError\u001b[0m: thresh_callback() missing 1 required positional argument: 'grayFrame'"
     ]
    },
    {
     "ename": "TypeError",
     "evalue": "thresh_callback() missing 1 required positional argument: 'grayFrame'",
     "output_type": "error",
     "traceback": [
      "\u001b[1;31m---------------------------------------------------------------------------\u001b[0m",
      "\u001b[1;31mTypeError\u001b[0m                                 Traceback (most recent call last)",
      "\u001b[1;31mTypeError\u001b[0m: thresh_callback() missing 1 required positional argument: 'grayFrame'"
     ]
    },
    {
     "ename": "TypeError",
     "evalue": "thresh_callback() missing 1 required positional argument: 'grayFrame'",
     "output_type": "error",
     "traceback": [
      "\u001b[1;31m---------------------------------------------------------------------------\u001b[0m",
      "\u001b[1;31mTypeError\u001b[0m                                 Traceback (most recent call last)",
      "\u001b[1;31mTypeError\u001b[0m: thresh_callback() missing 1 required positional argument: 'grayFrame'"
     ]
    },
    {
     "ename": "TypeError",
     "evalue": "thresh_callback() missing 1 required positional argument: 'grayFrame'",
     "output_type": "error",
     "traceback": [
      "\u001b[1;31m---------------------------------------------------------------------------\u001b[0m",
      "\u001b[1;31mTypeError\u001b[0m                                 Traceback (most recent call last)",
      "\u001b[1;31mTypeError\u001b[0m: thresh_callback() missing 1 required positional argument: 'grayFrame'"
     ]
    },
    {
     "ename": "TypeError",
     "evalue": "thresh_callback() missing 1 required positional argument: 'grayFrame'",
     "output_type": "error",
     "traceback": [
      "\u001b[1;31m---------------------------------------------------------------------------\u001b[0m",
      "\u001b[1;31mTypeError\u001b[0m                                 Traceback (most recent call last)",
      "\u001b[1;31mTypeError\u001b[0m: thresh_callback() missing 1 required positional argument: 'grayFrame'"
     ]
    },
    {
     "ename": "TypeError",
     "evalue": "thresh_callback() missing 1 required positional argument: 'grayFrame'",
     "output_type": "error",
     "traceback": [
      "\u001b[1;31m---------------------------------------------------------------------------\u001b[0m",
      "\u001b[1;31mTypeError\u001b[0m                                 Traceback (most recent call last)",
      "\u001b[1;31mTypeError\u001b[0m: thresh_callback() missing 1 required positional argument: 'grayFrame'"
     ]
    },
    {
     "ename": "TypeError",
     "evalue": "thresh_callback() missing 1 required positional argument: 'grayFrame'",
     "output_type": "error",
     "traceback": [
      "\u001b[1;31m---------------------------------------------------------------------------\u001b[0m",
      "\u001b[1;31mTypeError\u001b[0m                                 Traceback (most recent call last)",
      "\u001b[1;31mTypeError\u001b[0m: thresh_callback() missing 1 required positional argument: 'grayFrame'"
     ]
    },
    {
     "ename": "TypeError",
     "evalue": "thresh_callback() missing 1 required positional argument: 'grayFrame'",
     "output_type": "error",
     "traceback": [
      "\u001b[1;31m---------------------------------------------------------------------------\u001b[0m",
      "\u001b[1;31mTypeError\u001b[0m                                 Traceback (most recent call last)",
      "\u001b[1;31mTypeError\u001b[0m: thresh_callback() missing 1 required positional argument: 'grayFrame'"
     ]
    },
    {
     "ename": "TypeError",
     "evalue": "thresh_callback() missing 1 required positional argument: 'grayFrame'",
     "output_type": "error",
     "traceback": [
      "\u001b[1;31m---------------------------------------------------------------------------\u001b[0m",
      "\u001b[1;31mTypeError\u001b[0m                                 Traceback (most recent call last)",
      "\u001b[1;31mTypeError\u001b[0m: thresh_callback() missing 1 required positional argument: 'grayFrame'"
     ]
    },
    {
     "ename": "TypeError",
     "evalue": "thresh_callback() missing 1 required positional argument: 'grayFrame'",
     "output_type": "error",
     "traceback": [
      "\u001b[1;31m---------------------------------------------------------------------------\u001b[0m",
      "\u001b[1;31mTypeError\u001b[0m                                 Traceback (most recent call last)",
      "\u001b[1;31mTypeError\u001b[0m: thresh_callback() missing 1 required positional argument: 'grayFrame'"
     ]
    },
    {
     "ename": "TypeError",
     "evalue": "thresh_callback() missing 1 required positional argument: 'grayFrame'",
     "output_type": "error",
     "traceback": [
      "\u001b[1;31m---------------------------------------------------------------------------\u001b[0m",
      "\u001b[1;31mTypeError\u001b[0m                                 Traceback (most recent call last)",
      "\u001b[1;31mTypeError\u001b[0m: thresh_callback() missing 1 required positional argument: 'grayFrame'"
     ]
    },
    {
     "ename": "TypeError",
     "evalue": "thresh_callback() missing 1 required positional argument: 'grayFrame'",
     "output_type": "error",
     "traceback": [
      "\u001b[1;31m---------------------------------------------------------------------------\u001b[0m",
      "\u001b[1;31mTypeError\u001b[0m                                 Traceback (most recent call last)",
      "\u001b[1;31mTypeError\u001b[0m: thresh_callback() missing 1 required positional argument: 'grayFrame'"
     ]
    },
    {
     "ename": "TypeError",
     "evalue": "thresh_callback() missing 1 required positional argument: 'grayFrame'",
     "output_type": "error",
     "traceback": [
      "\u001b[1;31m---------------------------------------------------------------------------\u001b[0m",
      "\u001b[1;31mTypeError\u001b[0m                                 Traceback (most recent call last)",
      "\u001b[1;31mTypeError\u001b[0m: thresh_callback() missing 1 required positional argument: 'grayFrame'"
     ]
    },
    {
     "ename": "TypeError",
     "evalue": "thresh_callback() missing 1 required positional argument: 'grayFrame'",
     "output_type": "error",
     "traceback": [
      "\u001b[1;31m---------------------------------------------------------------------------\u001b[0m",
      "\u001b[1;31mTypeError\u001b[0m                                 Traceback (most recent call last)",
      "\u001b[1;31mTypeError\u001b[0m: thresh_callback() missing 1 required positional argument: 'grayFrame'"
     ]
    },
    {
     "ename": "TypeError",
     "evalue": "thresh_callback() missing 1 required positional argument: 'grayFrame'",
     "output_type": "error",
     "traceback": [
      "\u001b[1;31m---------------------------------------------------------------------------\u001b[0m",
      "\u001b[1;31mTypeError\u001b[0m                                 Traceback (most recent call last)",
      "\u001b[1;31mTypeError\u001b[0m: thresh_callback() missing 1 required positional argument: 'grayFrame'"
     ]
    },
    {
     "ename": "TypeError",
     "evalue": "thresh_callback() missing 1 required positional argument: 'grayFrame'",
     "output_type": "error",
     "traceback": [
      "\u001b[1;31m---------------------------------------------------------------------------\u001b[0m",
      "\u001b[1;31mTypeError\u001b[0m                                 Traceback (most recent call last)",
      "\u001b[1;31mTypeError\u001b[0m: thresh_callback() missing 1 required positional argument: 'grayFrame'"
     ]
    },
    {
     "ename": "TypeError",
     "evalue": "thresh_callback() missing 1 required positional argument: 'grayFrame'",
     "output_type": "error",
     "traceback": [
      "\u001b[1;31m---------------------------------------------------------------------------\u001b[0m",
      "\u001b[1;31mTypeError\u001b[0m                                 Traceback (most recent call last)",
      "\u001b[1;31mTypeError\u001b[0m: thresh_callback() missing 1 required positional argument: 'grayFrame'"
     ]
    },
    {
     "ename": "TypeError",
     "evalue": "thresh_callback() missing 1 required positional argument: 'grayFrame'",
     "output_type": "error",
     "traceback": [
      "\u001b[1;31m---------------------------------------------------------------------------\u001b[0m",
      "\u001b[1;31mTypeError\u001b[0m                                 Traceback (most recent call last)",
      "\u001b[1;31mTypeError\u001b[0m: thresh_callback() missing 1 required positional argument: 'grayFrame'"
     ]
    },
    {
     "ename": "TypeError",
     "evalue": "thresh_callback() missing 1 required positional argument: 'grayFrame'",
     "output_type": "error",
     "traceback": [
      "\u001b[1;31m---------------------------------------------------------------------------\u001b[0m",
      "\u001b[1;31mTypeError\u001b[0m                                 Traceback (most recent call last)",
      "\u001b[1;31mTypeError\u001b[0m: thresh_callback() missing 1 required positional argument: 'grayFrame'"
     ]
    },
    {
     "ename": "TypeError",
     "evalue": "thresh_callback() missing 1 required positional argument: 'grayFrame'",
     "output_type": "error",
     "traceback": [
      "\u001b[1;31m---------------------------------------------------------------------------\u001b[0m",
      "\u001b[1;31mTypeError\u001b[0m                                 Traceback (most recent call last)",
      "\u001b[1;31mTypeError\u001b[0m: thresh_callback() missing 1 required positional argument: 'grayFrame'"
     ]
    },
    {
     "ename": "TypeError",
     "evalue": "thresh_callback() missing 1 required positional argument: 'grayFrame'",
     "output_type": "error",
     "traceback": [
      "\u001b[1;31m---------------------------------------------------------------------------\u001b[0m",
      "\u001b[1;31mTypeError\u001b[0m                                 Traceback (most recent call last)",
      "\u001b[1;31mTypeError\u001b[0m: thresh_callback() missing 1 required positional argument: 'grayFrame'"
     ]
    },
    {
     "ename": "TypeError",
     "evalue": "thresh_callback() missing 1 required positional argument: 'grayFrame'",
     "output_type": "error",
     "traceback": [
      "\u001b[1;31m---------------------------------------------------------------------------\u001b[0m",
      "\u001b[1;31mTypeError\u001b[0m                                 Traceback (most recent call last)",
      "\u001b[1;31mTypeError\u001b[0m: thresh_callback() missing 1 required positional argument: 'grayFrame'"
     ]
    },
    {
     "ename": "TypeError",
     "evalue": "thresh_callback() missing 1 required positional argument: 'grayFrame'",
     "output_type": "error",
     "traceback": [
      "\u001b[1;31m---------------------------------------------------------------------------\u001b[0m",
      "\u001b[1;31mTypeError\u001b[0m                                 Traceback (most recent call last)",
      "\u001b[1;31mTypeError\u001b[0m: thresh_callback() missing 1 required positional argument: 'grayFrame'"
     ]
    },
    {
     "ename": "TypeError",
     "evalue": "thresh_callback() missing 1 required positional argument: 'grayFrame'",
     "output_type": "error",
     "traceback": [
      "\u001b[1;31m---------------------------------------------------------------------------\u001b[0m",
      "\u001b[1;31mTypeError\u001b[0m                                 Traceback (most recent call last)",
      "\u001b[1;31mTypeError\u001b[0m: thresh_callback() missing 1 required positional argument: 'grayFrame'"
     ]
    },
    {
     "ename": "TypeError",
     "evalue": "thresh_callback() missing 1 required positional argument: 'grayFrame'",
     "output_type": "error",
     "traceback": [
      "\u001b[1;31m---------------------------------------------------------------------------\u001b[0m",
      "\u001b[1;31mTypeError\u001b[0m                                 Traceback (most recent call last)",
      "\u001b[1;31mTypeError\u001b[0m: thresh_callback() missing 1 required positional argument: 'grayFrame'"
     ]
    },
    {
     "ename": "TypeError",
     "evalue": "thresh_callback() missing 1 required positional argument: 'grayFrame'",
     "output_type": "error",
     "traceback": [
      "\u001b[1;31m---------------------------------------------------------------------------\u001b[0m",
      "\u001b[1;31mTypeError\u001b[0m                                 Traceback (most recent call last)",
      "\u001b[1;31mTypeError\u001b[0m: thresh_callback() missing 1 required positional argument: 'grayFrame'"
     ]
    },
    {
     "ename": "TypeError",
     "evalue": "thresh_callback() missing 1 required positional argument: 'grayFrame'",
     "output_type": "error",
     "traceback": [
      "\u001b[1;31m---------------------------------------------------------------------------\u001b[0m",
      "\u001b[1;31mTypeError\u001b[0m                                 Traceback (most recent call last)",
      "\u001b[1;31mTypeError\u001b[0m: thresh_callback() missing 1 required positional argument: 'grayFrame'"
     ]
    },
    {
     "ename": "TypeError",
     "evalue": "thresh_callback() missing 1 required positional argument: 'grayFrame'",
     "output_type": "error",
     "traceback": [
      "\u001b[1;31m---------------------------------------------------------------------------\u001b[0m",
      "\u001b[1;31mTypeError\u001b[0m                                 Traceback (most recent call last)",
      "\u001b[1;31mTypeError\u001b[0m: thresh_callback() missing 1 required positional argument: 'grayFrame'"
     ]
    },
    {
     "ename": "TypeError",
     "evalue": "thresh_callback() missing 1 required positional argument: 'grayFrame'",
     "output_type": "error",
     "traceback": [
      "\u001b[1;31m---------------------------------------------------------------------------\u001b[0m",
      "\u001b[1;31mTypeError\u001b[0m                                 Traceback (most recent call last)",
      "\u001b[1;31mTypeError\u001b[0m: thresh_callback() missing 1 required positional argument: 'grayFrame'"
     ]
    },
    {
     "ename": "TypeError",
     "evalue": "thresh_callback() missing 1 required positional argument: 'grayFrame'",
     "output_type": "error",
     "traceback": [
      "\u001b[1;31m---------------------------------------------------------------------------\u001b[0m",
      "\u001b[1;31mTypeError\u001b[0m                                 Traceback (most recent call last)",
      "\u001b[1;31mTypeError\u001b[0m: thresh_callback() missing 1 required positional argument: 'grayFrame'"
     ]
    },
    {
     "ename": "TypeError",
     "evalue": "thresh_callback() missing 1 required positional argument: 'grayFrame'",
     "output_type": "error",
     "traceback": [
      "\u001b[1;31m---------------------------------------------------------------------------\u001b[0m",
      "\u001b[1;31mTypeError\u001b[0m                                 Traceback (most recent call last)",
      "\u001b[1;31mTypeError\u001b[0m: thresh_callback() missing 1 required positional argument: 'grayFrame'"
     ]
    },
    {
     "ename": "TypeError",
     "evalue": "thresh_callback() missing 1 required positional argument: 'grayFrame'",
     "output_type": "error",
     "traceback": [
      "\u001b[1;31m---------------------------------------------------------------------------\u001b[0m",
      "\u001b[1;31mTypeError\u001b[0m                                 Traceback (most recent call last)",
      "\u001b[1;31mTypeError\u001b[0m: thresh_callback() missing 1 required positional argument: 'grayFrame'"
     ]
    },
    {
     "ename": "TypeError",
     "evalue": "thresh_callback() missing 1 required positional argument: 'grayFrame'",
     "output_type": "error",
     "traceback": [
      "\u001b[1;31m---------------------------------------------------------------------------\u001b[0m",
      "\u001b[1;31mTypeError\u001b[0m                                 Traceback (most recent call last)",
      "\u001b[1;31mTypeError\u001b[0m: thresh_callback() missing 1 required positional argument: 'grayFrame'"
     ]
    },
    {
     "ename": "TypeError",
     "evalue": "thresh_callback() missing 1 required positional argument: 'grayFrame'",
     "output_type": "error",
     "traceback": [
      "\u001b[1;31m---------------------------------------------------------------------------\u001b[0m",
      "\u001b[1;31mTypeError\u001b[0m                                 Traceback (most recent call last)",
      "\u001b[1;31mTypeError\u001b[0m: thresh_callback() missing 1 required positional argument: 'grayFrame'"
     ]
    },
    {
     "ename": "TypeError",
     "evalue": "thresh_callback() missing 1 required positional argument: 'grayFrame'",
     "output_type": "error",
     "traceback": [
      "\u001b[1;31m---------------------------------------------------------------------------\u001b[0m",
      "\u001b[1;31mTypeError\u001b[0m                                 Traceback (most recent call last)",
      "\u001b[1;31mTypeError\u001b[0m: thresh_callback() missing 1 required positional argument: 'grayFrame'"
     ]
    },
    {
     "ename": "TypeError",
     "evalue": "thresh_callback() missing 1 required positional argument: 'grayFrame'",
     "output_type": "error",
     "traceback": [
      "\u001b[1;31m---------------------------------------------------------------------------\u001b[0m",
      "\u001b[1;31mTypeError\u001b[0m                                 Traceback (most recent call last)",
      "\u001b[1;31mTypeError\u001b[0m: thresh_callback() missing 1 required positional argument: 'grayFrame'"
     ]
    },
    {
     "ename": "TypeError",
     "evalue": "thresh_callback() missing 1 required positional argument: 'grayFrame'",
     "output_type": "error",
     "traceback": [
      "\u001b[1;31m---------------------------------------------------------------------------\u001b[0m",
      "\u001b[1;31mTypeError\u001b[0m                                 Traceback (most recent call last)",
      "\u001b[1;31mTypeError\u001b[0m: thresh_callback() missing 1 required positional argument: 'grayFrame'"
     ]
    },
    {
     "ename": "TypeError",
     "evalue": "thresh_callback() missing 1 required positional argument: 'grayFrame'",
     "output_type": "error",
     "traceback": [
      "\u001b[1;31m---------------------------------------------------------------------------\u001b[0m",
      "\u001b[1;31mTypeError\u001b[0m                                 Traceback (most recent call last)",
      "\u001b[1;31mTypeError\u001b[0m: thresh_callback() missing 1 required positional argument: 'grayFrame'"
     ]
    },
    {
     "ename": "TypeError",
     "evalue": "thresh_callback() missing 1 required positional argument: 'grayFrame'",
     "output_type": "error",
     "traceback": [
      "\u001b[1;31m---------------------------------------------------------------------------\u001b[0m",
      "\u001b[1;31mTypeError\u001b[0m                                 Traceback (most recent call last)",
      "\u001b[1;31mTypeError\u001b[0m: thresh_callback() missing 1 required positional argument: 'grayFrame'"
     ]
    },
    {
     "ename": "TypeError",
     "evalue": "thresh_callback() missing 1 required positional argument: 'grayFrame'",
     "output_type": "error",
     "traceback": [
      "\u001b[1;31m---------------------------------------------------------------------------\u001b[0m",
      "\u001b[1;31mTypeError\u001b[0m                                 Traceback (most recent call last)",
      "\u001b[1;31mTypeError\u001b[0m: thresh_callback() missing 1 required positional argument: 'grayFrame'"
     ]
    },
    {
     "ename": "TypeError",
     "evalue": "thresh_callback() missing 1 required positional argument: 'grayFrame'",
     "output_type": "error",
     "traceback": [
      "\u001b[1;31m---------------------------------------------------------------------------\u001b[0m",
      "\u001b[1;31mTypeError\u001b[0m                                 Traceback (most recent call last)",
      "\u001b[1;31mTypeError\u001b[0m: thresh_callback() missing 1 required positional argument: 'grayFrame'"
     ]
    },
    {
     "ename": "TypeError",
     "evalue": "thresh_callback() missing 1 required positional argument: 'grayFrame'",
     "output_type": "error",
     "traceback": [
      "\u001b[1;31m---------------------------------------------------------------------------\u001b[0m",
      "\u001b[1;31mTypeError\u001b[0m                                 Traceback (most recent call last)",
      "\u001b[1;31mTypeError\u001b[0m: thresh_callback() missing 1 required positional argument: 'grayFrame'"
     ]
    },
    {
     "ename": "TypeError",
     "evalue": "thresh_callback() missing 1 required positional argument: 'grayFrame'",
     "output_type": "error",
     "traceback": [
      "\u001b[1;31m---------------------------------------------------------------------------\u001b[0m",
      "\u001b[1;31mTypeError\u001b[0m                                 Traceback (most recent call last)",
      "\u001b[1;31mTypeError\u001b[0m: thresh_callback() missing 1 required positional argument: 'grayFrame'"
     ]
    },
    {
     "ename": "TypeError",
     "evalue": "thresh_callback() missing 1 required positional argument: 'grayFrame'",
     "output_type": "error",
     "traceback": [
      "\u001b[1;31m---------------------------------------------------------------------------\u001b[0m",
      "\u001b[1;31mTypeError\u001b[0m                                 Traceback (most recent call last)",
      "\u001b[1;31mTypeError\u001b[0m: thresh_callback() missing 1 required positional argument: 'grayFrame'"
     ]
    },
    {
     "ename": "TypeError",
     "evalue": "thresh_callback() missing 1 required positional argument: 'grayFrame'",
     "output_type": "error",
     "traceback": [
      "\u001b[1;31m---------------------------------------------------------------------------\u001b[0m",
      "\u001b[1;31mTypeError\u001b[0m                                 Traceback (most recent call last)",
      "\u001b[1;31mTypeError\u001b[0m: thresh_callback() missing 1 required positional argument: 'grayFrame'"
     ]
    },
    {
     "ename": "TypeError",
     "evalue": "thresh_callback() missing 1 required positional argument: 'grayFrame'",
     "output_type": "error",
     "traceback": [
      "\u001b[1;31m---------------------------------------------------------------------------\u001b[0m",
      "\u001b[1;31mTypeError\u001b[0m                                 Traceback (most recent call last)",
      "\u001b[1;31mTypeError\u001b[0m: thresh_callback() missing 1 required positional argument: 'grayFrame'"
     ]
    },
    {
     "ename": "TypeError",
     "evalue": "thresh_callback() missing 1 required positional argument: 'grayFrame'",
     "output_type": "error",
     "traceback": [
      "\u001b[1;31m---------------------------------------------------------------------------\u001b[0m",
      "\u001b[1;31mTypeError\u001b[0m                                 Traceback (most recent call last)",
      "\u001b[1;31mTypeError\u001b[0m: thresh_callback() missing 1 required positional argument: 'grayFrame'"
     ]
    },
    {
     "ename": "TypeError",
     "evalue": "thresh_callback() missing 1 required positional argument: 'grayFrame'",
     "output_type": "error",
     "traceback": [
      "\u001b[1;31m---------------------------------------------------------------------------\u001b[0m",
      "\u001b[1;31mTypeError\u001b[0m                                 Traceback (most recent call last)",
      "\u001b[1;31mTypeError\u001b[0m: thresh_callback() missing 1 required positional argument: 'grayFrame'"
     ]
    },
    {
     "ename": "TypeError",
     "evalue": "thresh_callback() missing 1 required positional argument: 'grayFrame'",
     "output_type": "error",
     "traceback": [
      "\u001b[1;31m---------------------------------------------------------------------------\u001b[0m",
      "\u001b[1;31mTypeError\u001b[0m                                 Traceback (most recent call last)",
      "\u001b[1;31mTypeError\u001b[0m: thresh_callback() missing 1 required positional argument: 'grayFrame'"
     ]
    },
    {
     "ename": "TypeError",
     "evalue": "thresh_callback() missing 1 required positional argument: 'grayFrame'",
     "output_type": "error",
     "traceback": [
      "\u001b[1;31m---------------------------------------------------------------------------\u001b[0m",
      "\u001b[1;31mTypeError\u001b[0m                                 Traceback (most recent call last)",
      "\u001b[1;31mTypeError\u001b[0m: thresh_callback() missing 1 required positional argument: 'grayFrame'"
     ]
    },
    {
     "ename": "TypeError",
     "evalue": "thresh_callback() missing 1 required positional argument: 'grayFrame'",
     "output_type": "error",
     "traceback": [
      "\u001b[1;31m---------------------------------------------------------------------------\u001b[0m",
      "\u001b[1;31mTypeError\u001b[0m                                 Traceback (most recent call last)",
      "\u001b[1;31mTypeError\u001b[0m: thresh_callback() missing 1 required positional argument: 'grayFrame'"
     ]
    },
    {
     "ename": "TypeError",
     "evalue": "thresh_callback() missing 1 required positional argument: 'grayFrame'",
     "output_type": "error",
     "traceback": [
      "\u001b[1;31m---------------------------------------------------------------------------\u001b[0m",
      "\u001b[1;31mTypeError\u001b[0m                                 Traceback (most recent call last)",
      "\u001b[1;31mTypeError\u001b[0m: thresh_callback() missing 1 required positional argument: 'grayFrame'"
     ]
    },
    {
     "ename": "TypeError",
     "evalue": "thresh_callback() missing 1 required positional argument: 'grayFrame'",
     "output_type": "error",
     "traceback": [
      "\u001b[1;31m---------------------------------------------------------------------------\u001b[0m",
      "\u001b[1;31mTypeError\u001b[0m                                 Traceback (most recent call last)",
      "\u001b[1;31mTypeError\u001b[0m: thresh_callback() missing 1 required positional argument: 'grayFrame'"
     ]
    },
    {
     "ename": "TypeError",
     "evalue": "thresh_callback() missing 1 required positional argument: 'grayFrame'",
     "output_type": "error",
     "traceback": [
      "\u001b[1;31m---------------------------------------------------------------------------\u001b[0m",
      "\u001b[1;31mTypeError\u001b[0m                                 Traceback (most recent call last)",
      "\u001b[1;31mTypeError\u001b[0m: thresh_callback() missing 1 required positional argument: 'grayFrame'"
     ]
    },
    {
     "ename": "TypeError",
     "evalue": "thresh_callback() missing 1 required positional argument: 'grayFrame'",
     "output_type": "error",
     "traceback": [
      "\u001b[1;31m---------------------------------------------------------------------------\u001b[0m",
      "\u001b[1;31mTypeError\u001b[0m                                 Traceback (most recent call last)",
      "\u001b[1;31mTypeError\u001b[0m: thresh_callback() missing 1 required positional argument: 'grayFrame'"
     ]
    },
    {
     "ename": "TypeError",
     "evalue": "thresh_callback() missing 1 required positional argument: 'grayFrame'",
     "output_type": "error",
     "traceback": [
      "\u001b[1;31m---------------------------------------------------------------------------\u001b[0m",
      "\u001b[1;31mTypeError\u001b[0m                                 Traceback (most recent call last)",
      "\u001b[1;31mTypeError\u001b[0m: thresh_callback() missing 1 required positional argument: 'grayFrame'"
     ]
    },
    {
     "ename": "TypeError",
     "evalue": "thresh_callback() missing 1 required positional argument: 'grayFrame'",
     "output_type": "error",
     "traceback": [
      "\u001b[1;31m---------------------------------------------------------------------------\u001b[0m",
      "\u001b[1;31mTypeError\u001b[0m                                 Traceback (most recent call last)",
      "\u001b[1;31mTypeError\u001b[0m: thresh_callback() missing 1 required positional argument: 'grayFrame'"
     ]
    },
    {
     "ename": "TypeError",
     "evalue": "thresh_callback() missing 1 required positional argument: 'grayFrame'",
     "output_type": "error",
     "traceback": [
      "\u001b[1;31m---------------------------------------------------------------------------\u001b[0m",
      "\u001b[1;31mTypeError\u001b[0m                                 Traceback (most recent call last)",
      "\u001b[1;31mTypeError\u001b[0m: thresh_callback() missing 1 required positional argument: 'grayFrame'"
     ]
    },
    {
     "ename": "TypeError",
     "evalue": "thresh_callback() missing 1 required positional argument: 'grayFrame'",
     "output_type": "error",
     "traceback": [
      "\u001b[1;31m---------------------------------------------------------------------------\u001b[0m",
      "\u001b[1;31mTypeError\u001b[0m                                 Traceback (most recent call last)",
      "\u001b[1;31mTypeError\u001b[0m: thresh_callback() missing 1 required positional argument: 'grayFrame'"
     ]
    },
    {
     "ename": "TypeError",
     "evalue": "thresh_callback() missing 1 required positional argument: 'grayFrame'",
     "output_type": "error",
     "traceback": [
      "\u001b[1;31m---------------------------------------------------------------------------\u001b[0m",
      "\u001b[1;31mTypeError\u001b[0m                                 Traceback (most recent call last)",
      "\u001b[1;31mTypeError\u001b[0m: thresh_callback() missing 1 required positional argument: 'grayFrame'"
     ]
    },
    {
     "ename": "TypeError",
     "evalue": "thresh_callback() missing 1 required positional argument: 'grayFrame'",
     "output_type": "error",
     "traceback": [
      "\u001b[1;31m---------------------------------------------------------------------------\u001b[0m",
      "\u001b[1;31mTypeError\u001b[0m                                 Traceback (most recent call last)",
      "\u001b[1;31mTypeError\u001b[0m: thresh_callback() missing 1 required positional argument: 'grayFrame'"
     ]
    },
    {
     "ename": "TypeError",
     "evalue": "thresh_callback() missing 1 required positional argument: 'grayFrame'",
     "output_type": "error",
     "traceback": [
      "\u001b[1;31m---------------------------------------------------------------------------\u001b[0m",
      "\u001b[1;31mTypeError\u001b[0m                                 Traceback (most recent call last)",
      "\u001b[1;31mTypeError\u001b[0m: thresh_callback() missing 1 required positional argument: 'grayFrame'"
     ]
    },
    {
     "ename": "TypeError",
     "evalue": "thresh_callback() missing 1 required positional argument: 'grayFrame'",
     "output_type": "error",
     "traceback": [
      "\u001b[1;31m---------------------------------------------------------------------------\u001b[0m",
      "\u001b[1;31mTypeError\u001b[0m                                 Traceback (most recent call last)",
      "\u001b[1;31mTypeError\u001b[0m: thresh_callback() missing 1 required positional argument: 'grayFrame'"
     ]
    },
    {
     "ename": "TypeError",
     "evalue": "thresh_callback() missing 1 required positional argument: 'grayFrame'",
     "output_type": "error",
     "traceback": [
      "\u001b[1;31m---------------------------------------------------------------------------\u001b[0m",
      "\u001b[1;31mTypeError\u001b[0m                                 Traceback (most recent call last)",
      "\u001b[1;31mTypeError\u001b[0m: thresh_callback() missing 1 required positional argument: 'grayFrame'"
     ]
    },
    {
     "ename": "TypeError",
     "evalue": "thresh_callback() missing 1 required positional argument: 'grayFrame'",
     "output_type": "error",
     "traceback": [
      "\u001b[1;31m---------------------------------------------------------------------------\u001b[0m",
      "\u001b[1;31mTypeError\u001b[0m                                 Traceback (most recent call last)",
      "\u001b[1;31mTypeError\u001b[0m: thresh_callback() missing 1 required positional argument: 'grayFrame'"
     ]
    },
    {
     "ename": "TypeError",
     "evalue": "thresh_callback() missing 1 required positional argument: 'grayFrame'",
     "output_type": "error",
     "traceback": [
      "\u001b[1;31m---------------------------------------------------------------------------\u001b[0m",
      "\u001b[1;31mTypeError\u001b[0m                                 Traceback (most recent call last)",
      "\u001b[1;31mTypeError\u001b[0m: thresh_callback() missing 1 required positional argument: 'grayFrame'"
     ]
    },
    {
     "ename": "TypeError",
     "evalue": "thresh_callback() missing 1 required positional argument: 'grayFrame'",
     "output_type": "error",
     "traceback": [
      "\u001b[1;31m---------------------------------------------------------------------------\u001b[0m",
      "\u001b[1;31mTypeError\u001b[0m                                 Traceback (most recent call last)",
      "\u001b[1;31mTypeError\u001b[0m: thresh_callback() missing 1 required positional argument: 'grayFrame'"
     ]
    },
    {
     "ename": "TypeError",
     "evalue": "thresh_callback() missing 1 required positional argument: 'grayFrame'",
     "output_type": "error",
     "traceback": [
      "\u001b[1;31m---------------------------------------------------------------------------\u001b[0m",
      "\u001b[1;31mTypeError\u001b[0m                                 Traceback (most recent call last)",
      "\u001b[1;31mTypeError\u001b[0m: thresh_callback() missing 1 required positional argument: 'grayFrame'"
     ]
    },
    {
     "ename": "TypeError",
     "evalue": "thresh_callback() missing 1 required positional argument: 'grayFrame'",
     "output_type": "error",
     "traceback": [
      "\u001b[1;31m---------------------------------------------------------------------------\u001b[0m",
      "\u001b[1;31mTypeError\u001b[0m                                 Traceback (most recent call last)",
      "\u001b[1;31mTypeError\u001b[0m: thresh_callback() missing 1 required positional argument: 'grayFrame'"
     ]
    },
    {
     "ename": "TypeError",
     "evalue": "thresh_callback() missing 1 required positional argument: 'grayFrame'",
     "output_type": "error",
     "traceback": [
      "\u001b[1;31m---------------------------------------------------------------------------\u001b[0m",
      "\u001b[1;31mTypeError\u001b[0m                                 Traceback (most recent call last)",
      "\u001b[1;31mTypeError\u001b[0m: thresh_callback() missing 1 required positional argument: 'grayFrame'"
     ]
    },
    {
     "ename": "TypeError",
     "evalue": "thresh_callback() missing 1 required positional argument: 'grayFrame'",
     "output_type": "error",
     "traceback": [
      "\u001b[1;31m---------------------------------------------------------------------------\u001b[0m",
      "\u001b[1;31mTypeError\u001b[0m                                 Traceback (most recent call last)",
      "\u001b[1;31mTypeError\u001b[0m: thresh_callback() missing 1 required positional argument: 'grayFrame'"
     ]
    },
    {
     "ename": "TypeError",
     "evalue": "thresh_callback() missing 1 required positional argument: 'grayFrame'",
     "output_type": "error",
     "traceback": [
      "\u001b[1;31m---------------------------------------------------------------------------\u001b[0m",
      "\u001b[1;31mTypeError\u001b[0m                                 Traceback (most recent call last)",
      "\u001b[1;31mTypeError\u001b[0m: thresh_callback() missing 1 required positional argument: 'grayFrame'"
     ]
    },
    {
     "ename": "TypeError",
     "evalue": "thresh_callback() missing 1 required positional argument: 'grayFrame'",
     "output_type": "error",
     "traceback": [
      "\u001b[1;31m---------------------------------------------------------------------------\u001b[0m",
      "\u001b[1;31mTypeError\u001b[0m                                 Traceback (most recent call last)",
      "\u001b[1;31mTypeError\u001b[0m: thresh_callback() missing 1 required positional argument: 'grayFrame'"
     ]
    },
    {
     "ename": "TypeError",
     "evalue": "thresh_callback() missing 1 required positional argument: 'grayFrame'",
     "output_type": "error",
     "traceback": [
      "\u001b[1;31m---------------------------------------------------------------------------\u001b[0m",
      "\u001b[1;31mTypeError\u001b[0m                                 Traceback (most recent call last)",
      "\u001b[1;31mTypeError\u001b[0m: thresh_callback() missing 1 required positional argument: 'grayFrame'"
     ]
    },
    {
     "ename": "TypeError",
     "evalue": "thresh_callback() missing 1 required positional argument: 'grayFrame'",
     "output_type": "error",
     "traceback": [
      "\u001b[1;31m---------------------------------------------------------------------------\u001b[0m",
      "\u001b[1;31mTypeError\u001b[0m                                 Traceback (most recent call last)",
      "\u001b[1;31mTypeError\u001b[0m: thresh_callback() missing 1 required positional argument: 'grayFrame'"
     ]
    },
    {
     "ename": "TypeError",
     "evalue": "thresh_callback() missing 1 required positional argument: 'grayFrame'",
     "output_type": "error",
     "traceback": [
      "\u001b[1;31m---------------------------------------------------------------------------\u001b[0m",
      "\u001b[1;31mTypeError\u001b[0m                                 Traceback (most recent call last)",
      "\u001b[1;31mTypeError\u001b[0m: thresh_callback() missing 1 required positional argument: 'grayFrame'"
     ]
    },
    {
     "ename": "TypeError",
     "evalue": "thresh_callback() missing 1 required positional argument: 'grayFrame'",
     "output_type": "error",
     "traceback": [
      "\u001b[1;31m---------------------------------------------------------------------------\u001b[0m",
      "\u001b[1;31mTypeError\u001b[0m                                 Traceback (most recent call last)",
      "\u001b[1;31mTypeError\u001b[0m: thresh_callback() missing 1 required positional argument: 'grayFrame'"
     ]
    },
    {
     "ename": "TypeError",
     "evalue": "thresh_callback() missing 1 required positional argument: 'grayFrame'",
     "output_type": "error",
     "traceback": [
      "\u001b[1;31m---------------------------------------------------------------------------\u001b[0m",
      "\u001b[1;31mTypeError\u001b[0m                                 Traceback (most recent call last)",
      "\u001b[1;31mTypeError\u001b[0m: thresh_callback() missing 1 required positional argument: 'grayFrame'"
     ]
    },
    {
     "ename": "TypeError",
     "evalue": "thresh_callback() missing 1 required positional argument: 'grayFrame'",
     "output_type": "error",
     "traceback": [
      "\u001b[1;31m---------------------------------------------------------------------------\u001b[0m",
      "\u001b[1;31mTypeError\u001b[0m                                 Traceback (most recent call last)",
      "\u001b[1;31mTypeError\u001b[0m: thresh_callback() missing 1 required positional argument: 'grayFrame'"
     ]
    },
    {
     "ename": "TypeError",
     "evalue": "thresh_callback() missing 1 required positional argument: 'grayFrame'",
     "output_type": "error",
     "traceback": [
      "\u001b[1;31m---------------------------------------------------------------------------\u001b[0m",
      "\u001b[1;31mTypeError\u001b[0m                                 Traceback (most recent call last)",
      "\u001b[1;31mTypeError\u001b[0m: thresh_callback() missing 1 required positional argument: 'grayFrame'"
     ]
    },
    {
     "ename": "TypeError",
     "evalue": "thresh_callback() missing 1 required positional argument: 'grayFrame'",
     "output_type": "error",
     "traceback": [
      "\u001b[1;31m---------------------------------------------------------------------------\u001b[0m",
      "\u001b[1;31mTypeError\u001b[0m                                 Traceback (most recent call last)",
      "\u001b[1;31mTypeError\u001b[0m: thresh_callback() missing 1 required positional argument: 'grayFrame'"
     ]
    },
    {
     "ename": "TypeError",
     "evalue": "thresh_callback() missing 1 required positional argument: 'grayFrame'",
     "output_type": "error",
     "traceback": [
      "\u001b[1;31m---------------------------------------------------------------------------\u001b[0m",
      "\u001b[1;31mTypeError\u001b[0m                                 Traceback (most recent call last)",
      "\u001b[1;31mTypeError\u001b[0m: thresh_callback() missing 1 required positional argument: 'grayFrame'"
     ]
    },
    {
     "ename": "TypeError",
     "evalue": "thresh_callback() missing 1 required positional argument: 'grayFrame'",
     "output_type": "error",
     "traceback": [
      "\u001b[1;31m---------------------------------------------------------------------------\u001b[0m",
      "\u001b[1;31mTypeError\u001b[0m                                 Traceback (most recent call last)",
      "\u001b[1;31mTypeError\u001b[0m: thresh_callback() missing 1 required positional argument: 'grayFrame'"
     ]
    },
    {
     "ename": "TypeError",
     "evalue": "thresh_callback() missing 1 required positional argument: 'grayFrame'",
     "output_type": "error",
     "traceback": [
      "\u001b[1;31m---------------------------------------------------------------------------\u001b[0m",
      "\u001b[1;31mTypeError\u001b[0m                                 Traceback (most recent call last)",
      "\u001b[1;31mTypeError\u001b[0m: thresh_callback() missing 1 required positional argument: 'grayFrame'"
     ]
    },
    {
     "ename": "TypeError",
     "evalue": "thresh_callback() missing 1 required positional argument: 'grayFrame'",
     "output_type": "error",
     "traceback": [
      "\u001b[1;31m---------------------------------------------------------------------------\u001b[0m",
      "\u001b[1;31mTypeError\u001b[0m                                 Traceback (most recent call last)",
      "\u001b[1;31mTypeError\u001b[0m: thresh_callback() missing 1 required positional argument: 'grayFrame'"
     ]
    },
    {
     "ename": "TypeError",
     "evalue": "thresh_callback() missing 1 required positional argument: 'grayFrame'",
     "output_type": "error",
     "traceback": [
      "\u001b[1;31m---------------------------------------------------------------------------\u001b[0m",
      "\u001b[1;31mTypeError\u001b[0m                                 Traceback (most recent call last)",
      "\u001b[1;31mTypeError\u001b[0m: thresh_callback() missing 1 required positional argument: 'grayFrame'"
     ]
    },
    {
     "ename": "TypeError",
     "evalue": "thresh_callback() missing 1 required positional argument: 'grayFrame'",
     "output_type": "error",
     "traceback": [
      "\u001b[1;31m---------------------------------------------------------------------------\u001b[0m",
      "\u001b[1;31mTypeError\u001b[0m                                 Traceback (most recent call last)",
      "\u001b[1;31mTypeError\u001b[0m: thresh_callback() missing 1 required positional argument: 'grayFrame'"
     ]
    },
    {
     "ename": "TypeError",
     "evalue": "thresh_callback() missing 1 required positional argument: 'grayFrame'",
     "output_type": "error",
     "traceback": [
      "\u001b[1;31m---------------------------------------------------------------------------\u001b[0m",
      "\u001b[1;31mTypeError\u001b[0m                                 Traceback (most recent call last)",
      "\u001b[1;31mTypeError\u001b[0m: thresh_callback() missing 1 required positional argument: 'grayFrame'"
     ]
    },
    {
     "ename": "TypeError",
     "evalue": "thresh_callback() missing 1 required positional argument: 'grayFrame'",
     "output_type": "error",
     "traceback": [
      "\u001b[1;31m---------------------------------------------------------------------------\u001b[0m",
      "\u001b[1;31mTypeError\u001b[0m                                 Traceback (most recent call last)",
      "\u001b[1;31mTypeError\u001b[0m: thresh_callback() missing 1 required positional argument: 'grayFrame'"
     ]
    },
    {
     "ename": "TypeError",
     "evalue": "thresh_callback() missing 1 required positional argument: 'grayFrame'",
     "output_type": "error",
     "traceback": [
      "\u001b[1;31m---------------------------------------------------------------------------\u001b[0m",
      "\u001b[1;31mTypeError\u001b[0m                                 Traceback (most recent call last)",
      "\u001b[1;31mTypeError\u001b[0m: thresh_callback() missing 1 required positional argument: 'grayFrame'"
     ]
    },
    {
     "ename": "TypeError",
     "evalue": "thresh_callback() missing 1 required positional argument: 'grayFrame'",
     "output_type": "error",
     "traceback": [
      "\u001b[1;31m---------------------------------------------------------------------------\u001b[0m",
      "\u001b[1;31mTypeError\u001b[0m                                 Traceback (most recent call last)",
      "\u001b[1;31mTypeError\u001b[0m: thresh_callback() missing 1 required positional argument: 'grayFrame'"
     ]
    },
    {
     "ename": "TypeError",
     "evalue": "thresh_callback() missing 1 required positional argument: 'grayFrame'",
     "output_type": "error",
     "traceback": [
      "\u001b[1;31m---------------------------------------------------------------------------\u001b[0m",
      "\u001b[1;31mTypeError\u001b[0m                                 Traceback (most recent call last)",
      "\u001b[1;31mTypeError\u001b[0m: thresh_callback() missing 1 required positional argument: 'grayFrame'"
     ]
    },
    {
     "ename": "TypeError",
     "evalue": "thresh_callback() missing 1 required positional argument: 'grayFrame'",
     "output_type": "error",
     "traceback": [
      "\u001b[1;31m---------------------------------------------------------------------------\u001b[0m",
      "\u001b[1;31mTypeError\u001b[0m                                 Traceback (most recent call last)",
      "\u001b[1;31mTypeError\u001b[0m: thresh_callback() missing 1 required positional argument: 'grayFrame'"
     ]
    },
    {
     "ename": "TypeError",
     "evalue": "thresh_callback() missing 1 required positional argument: 'grayFrame'",
     "output_type": "error",
     "traceback": [
      "\u001b[1;31m---------------------------------------------------------------------------\u001b[0m",
      "\u001b[1;31mTypeError\u001b[0m                                 Traceback (most recent call last)",
      "\u001b[1;31mTypeError\u001b[0m: thresh_callback() missing 1 required positional argument: 'grayFrame'"
     ]
    },
    {
     "ename": "TypeError",
     "evalue": "thresh_callback() missing 1 required positional argument: 'grayFrame'",
     "output_type": "error",
     "traceback": [
      "\u001b[1;31m---------------------------------------------------------------------------\u001b[0m",
      "\u001b[1;31mTypeError\u001b[0m                                 Traceback (most recent call last)",
      "\u001b[1;31mTypeError\u001b[0m: thresh_callback() missing 1 required positional argument: 'grayFrame'"
     ]
    },
    {
     "ename": "TypeError",
     "evalue": "thresh_callback() missing 1 required positional argument: 'grayFrame'",
     "output_type": "error",
     "traceback": [
      "\u001b[1;31m---------------------------------------------------------------------------\u001b[0m",
      "\u001b[1;31mTypeError\u001b[0m                                 Traceback (most recent call last)",
      "\u001b[1;31mTypeError\u001b[0m: thresh_callback() missing 1 required positional argument: 'grayFrame'"
     ]
    },
    {
     "ename": "TypeError",
     "evalue": "thresh_callback() missing 1 required positional argument: 'grayFrame'",
     "output_type": "error",
     "traceback": [
      "\u001b[1;31m---------------------------------------------------------------------------\u001b[0m",
      "\u001b[1;31mTypeError\u001b[0m                                 Traceback (most recent call last)",
      "\u001b[1;31mTypeError\u001b[0m: thresh_callback() missing 1 required positional argument: 'grayFrame'"
     ]
    },
    {
     "ename": "TypeError",
     "evalue": "thresh_callback() missing 1 required positional argument: 'grayFrame'",
     "output_type": "error",
     "traceback": [
      "\u001b[1;31m---------------------------------------------------------------------------\u001b[0m",
      "\u001b[1;31mTypeError\u001b[0m                                 Traceback (most recent call last)",
      "\u001b[1;31mTypeError\u001b[0m: thresh_callback() missing 1 required positional argument: 'grayFrame'"
     ]
    },
    {
     "ename": "TypeError",
     "evalue": "thresh_callback() missing 1 required positional argument: 'grayFrame'",
     "output_type": "error",
     "traceback": [
      "\u001b[1;31m---------------------------------------------------------------------------\u001b[0m",
      "\u001b[1;31mTypeError\u001b[0m                                 Traceback (most recent call last)",
      "\u001b[1;31mTypeError\u001b[0m: thresh_callback() missing 1 required positional argument: 'grayFrame'"
     ]
    },
    {
     "ename": "TypeError",
     "evalue": "thresh_callback() missing 1 required positional argument: 'grayFrame'",
     "output_type": "error",
     "traceback": [
      "\u001b[1;31m---------------------------------------------------------------------------\u001b[0m",
      "\u001b[1;31mTypeError\u001b[0m                                 Traceback (most recent call last)",
      "\u001b[1;31mTypeError\u001b[0m: thresh_callback() missing 1 required positional argument: 'grayFrame'"
     ]
    },
    {
     "ename": "TypeError",
     "evalue": "thresh_callback() missing 1 required positional argument: 'grayFrame'",
     "output_type": "error",
     "traceback": [
      "\u001b[1;31m---------------------------------------------------------------------------\u001b[0m",
      "\u001b[1;31mTypeError\u001b[0m                                 Traceback (most recent call last)",
      "\u001b[1;31mTypeError\u001b[0m: thresh_callback() missing 1 required positional argument: 'grayFrame'"
     ]
    },
    {
     "ename": "TypeError",
     "evalue": "thresh_callback() missing 1 required positional argument: 'grayFrame'",
     "output_type": "error",
     "traceback": [
      "\u001b[1;31m---------------------------------------------------------------------------\u001b[0m",
      "\u001b[1;31mTypeError\u001b[0m                                 Traceback (most recent call last)",
      "\u001b[1;31mTypeError\u001b[0m: thresh_callback() missing 1 required positional argument: 'grayFrame'"
     ]
    },
    {
     "ename": "TypeError",
     "evalue": "thresh_callback() missing 1 required positional argument: 'grayFrame'",
     "output_type": "error",
     "traceback": [
      "\u001b[1;31m---------------------------------------------------------------------------\u001b[0m",
      "\u001b[1;31mTypeError\u001b[0m                                 Traceback (most recent call last)",
      "\u001b[1;31mTypeError\u001b[0m: thresh_callback() missing 1 required positional argument: 'grayFrame'"
     ]
    },
    {
     "ename": "TypeError",
     "evalue": "thresh_callback() missing 1 required positional argument: 'grayFrame'",
     "output_type": "error",
     "traceback": [
      "\u001b[1;31m---------------------------------------------------------------------------\u001b[0m",
      "\u001b[1;31mTypeError\u001b[0m                                 Traceback (most recent call last)",
      "\u001b[1;31mTypeError\u001b[0m: thresh_callback() missing 1 required positional argument: 'grayFrame'"
     ]
    },
    {
     "ename": "TypeError",
     "evalue": "thresh_callback() missing 1 required positional argument: 'grayFrame'",
     "output_type": "error",
     "traceback": [
      "\u001b[1;31m---------------------------------------------------------------------------\u001b[0m",
      "\u001b[1;31mTypeError\u001b[0m                                 Traceback (most recent call last)",
      "\u001b[1;31mTypeError\u001b[0m: thresh_callback() missing 1 required positional argument: 'grayFrame'"
     ]
    },
    {
     "ename": "TypeError",
     "evalue": "thresh_callback() missing 1 required positional argument: 'grayFrame'",
     "output_type": "error",
     "traceback": [
      "\u001b[1;31m---------------------------------------------------------------------------\u001b[0m",
      "\u001b[1;31mTypeError\u001b[0m                                 Traceback (most recent call last)",
      "\u001b[1;31mTypeError\u001b[0m: thresh_callback() missing 1 required positional argument: 'grayFrame'"
     ]
    },
    {
     "ename": "TypeError",
     "evalue": "thresh_callback() missing 1 required positional argument: 'grayFrame'",
     "output_type": "error",
     "traceback": [
      "\u001b[1;31m---------------------------------------------------------------------------\u001b[0m",
      "\u001b[1;31mTypeError\u001b[0m                                 Traceback (most recent call last)",
      "\u001b[1;31mTypeError\u001b[0m: thresh_callback() missing 1 required positional argument: 'grayFrame'"
     ]
    },
    {
     "ename": "TypeError",
     "evalue": "thresh_callback() missing 1 required positional argument: 'grayFrame'",
     "output_type": "error",
     "traceback": [
      "\u001b[1;31m---------------------------------------------------------------------------\u001b[0m",
      "\u001b[1;31mTypeError\u001b[0m                                 Traceback (most recent call last)",
      "\u001b[1;31mTypeError\u001b[0m: thresh_callback() missing 1 required positional argument: 'grayFrame'"
     ]
    },
    {
     "ename": "TypeError",
     "evalue": "thresh_callback() missing 1 required positional argument: 'grayFrame'",
     "output_type": "error",
     "traceback": [
      "\u001b[1;31m---------------------------------------------------------------------------\u001b[0m",
      "\u001b[1;31mTypeError\u001b[0m                                 Traceback (most recent call last)",
      "\u001b[1;31mTypeError\u001b[0m: thresh_callback() missing 1 required positional argument: 'grayFrame'"
     ]
    },
    {
     "ename": "TypeError",
     "evalue": "thresh_callback() missing 1 required positional argument: 'grayFrame'",
     "output_type": "error",
     "traceback": [
      "\u001b[1;31m---------------------------------------------------------------------------\u001b[0m",
      "\u001b[1;31mTypeError\u001b[0m                                 Traceback (most recent call last)",
      "\u001b[1;31mTypeError\u001b[0m: thresh_callback() missing 1 required positional argument: 'grayFrame'"
     ]
    },
    {
     "ename": "TypeError",
     "evalue": "thresh_callback() missing 1 required positional argument: 'grayFrame'",
     "output_type": "error",
     "traceback": [
      "\u001b[1;31m---------------------------------------------------------------------------\u001b[0m",
      "\u001b[1;31mTypeError\u001b[0m                                 Traceback (most recent call last)",
      "\u001b[1;31mTypeError\u001b[0m: thresh_callback() missing 1 required positional argument: 'grayFrame'"
     ]
    },
    {
     "ename": "TypeError",
     "evalue": "thresh_callback() missing 1 required positional argument: 'grayFrame'",
     "output_type": "error",
     "traceback": [
      "\u001b[1;31m---------------------------------------------------------------------------\u001b[0m",
      "\u001b[1;31mTypeError\u001b[0m                                 Traceback (most recent call last)",
      "\u001b[1;31mTypeError\u001b[0m: thresh_callback() missing 1 required positional argument: 'grayFrame'"
     ]
    },
    {
     "ename": "TypeError",
     "evalue": "thresh_callback() missing 1 required positional argument: 'grayFrame'",
     "output_type": "error",
     "traceback": [
      "\u001b[1;31m---------------------------------------------------------------------------\u001b[0m",
      "\u001b[1;31mTypeError\u001b[0m                                 Traceback (most recent call last)",
      "\u001b[1;31mTypeError\u001b[0m: thresh_callback() missing 1 required positional argument: 'grayFrame'"
     ]
    },
    {
     "ename": "TypeError",
     "evalue": "thresh_callback() missing 1 required positional argument: 'grayFrame'",
     "output_type": "error",
     "traceback": [
      "\u001b[1;31m---------------------------------------------------------------------------\u001b[0m",
      "\u001b[1;31mTypeError\u001b[0m                                 Traceback (most recent call last)",
      "\u001b[1;31mTypeError\u001b[0m: thresh_callback() missing 1 required positional argument: 'grayFrame'"
     ]
    },
    {
     "ename": "TypeError",
     "evalue": "thresh_callback() missing 1 required positional argument: 'grayFrame'",
     "output_type": "error",
     "traceback": [
      "\u001b[1;31m---------------------------------------------------------------------------\u001b[0m",
      "\u001b[1;31mTypeError\u001b[0m                                 Traceback (most recent call last)",
      "\u001b[1;31mTypeError\u001b[0m: thresh_callback() missing 1 required positional argument: 'grayFrame'"
     ]
    },
    {
     "ename": "TypeError",
     "evalue": "thresh_callback() missing 1 required positional argument: 'grayFrame'",
     "output_type": "error",
     "traceback": [
      "\u001b[1;31m---------------------------------------------------------------------------\u001b[0m",
      "\u001b[1;31mTypeError\u001b[0m                                 Traceback (most recent call last)",
      "\u001b[1;31mTypeError\u001b[0m: thresh_callback() missing 1 required positional argument: 'grayFrame'"
     ]
    },
    {
     "ename": "TypeError",
     "evalue": "thresh_callback() missing 1 required positional argument: 'grayFrame'",
     "output_type": "error",
     "traceback": [
      "\u001b[1;31m---------------------------------------------------------------------------\u001b[0m",
      "\u001b[1;31mTypeError\u001b[0m                                 Traceback (most recent call last)",
      "\u001b[1;31mTypeError\u001b[0m: thresh_callback() missing 1 required positional argument: 'grayFrame'"
     ]
    },
    {
     "ename": "TypeError",
     "evalue": "thresh_callback() missing 1 required positional argument: 'grayFrame'",
     "output_type": "error",
     "traceback": [
      "\u001b[1;31m---------------------------------------------------------------------------\u001b[0m",
      "\u001b[1;31mTypeError\u001b[0m                                 Traceback (most recent call last)",
      "\u001b[1;31mTypeError\u001b[0m: thresh_callback() missing 1 required positional argument: 'grayFrame'"
     ]
    },
    {
     "ename": "TypeError",
     "evalue": "thresh_callback() missing 1 required positional argument: 'grayFrame'",
     "output_type": "error",
     "traceback": [
      "\u001b[1;31m---------------------------------------------------------------------------\u001b[0m",
      "\u001b[1;31mTypeError\u001b[0m                                 Traceback (most recent call last)",
      "\u001b[1;31mTypeError\u001b[0m: thresh_callback() missing 1 required positional argument: 'grayFrame'"
     ]
    },
    {
     "ename": "TypeError",
     "evalue": "thresh_callback() missing 1 required positional argument: 'grayFrame'",
     "output_type": "error",
     "traceback": [
      "\u001b[1;31m---------------------------------------------------------------------------\u001b[0m",
      "\u001b[1;31mTypeError\u001b[0m                                 Traceback (most recent call last)",
      "\u001b[1;31mTypeError\u001b[0m: thresh_callback() missing 1 required positional argument: 'grayFrame'"
     ]
    },
    {
     "ename": "TypeError",
     "evalue": "thresh_callback() missing 1 required positional argument: 'grayFrame'",
     "output_type": "error",
     "traceback": [
      "\u001b[1;31m---------------------------------------------------------------------------\u001b[0m",
      "\u001b[1;31mTypeError\u001b[0m                                 Traceback (most recent call last)",
      "\u001b[1;31mTypeError\u001b[0m: thresh_callback() missing 1 required positional argument: 'grayFrame'"
     ]
    },
    {
     "ename": "TypeError",
     "evalue": "thresh_callback() missing 1 required positional argument: 'grayFrame'",
     "output_type": "error",
     "traceback": [
      "\u001b[1;31m---------------------------------------------------------------------------\u001b[0m",
      "\u001b[1;31mTypeError\u001b[0m                                 Traceback (most recent call last)",
      "\u001b[1;31mTypeError\u001b[0m: thresh_callback() missing 1 required positional argument: 'grayFrame'"
     ]
    },
    {
     "ename": "TypeError",
     "evalue": "thresh_callback() missing 1 required positional argument: 'grayFrame'",
     "output_type": "error",
     "traceback": [
      "\u001b[1;31m---------------------------------------------------------------------------\u001b[0m",
      "\u001b[1;31mTypeError\u001b[0m                                 Traceback (most recent call last)",
      "\u001b[1;31mTypeError\u001b[0m: thresh_callback() missing 1 required positional argument: 'grayFrame'"
     ]
    },
    {
     "ename": "TypeError",
     "evalue": "thresh_callback() missing 1 required positional argument: 'grayFrame'",
     "output_type": "error",
     "traceback": [
      "\u001b[1;31m---------------------------------------------------------------------------\u001b[0m",
      "\u001b[1;31mTypeError\u001b[0m                                 Traceback (most recent call last)",
      "\u001b[1;31mTypeError\u001b[0m: thresh_callback() missing 1 required positional argument: 'grayFrame'"
     ]
    },
    {
     "ename": "TypeError",
     "evalue": "thresh_callback() missing 1 required positional argument: 'grayFrame'",
     "output_type": "error",
     "traceback": [
      "\u001b[1;31m---------------------------------------------------------------------------\u001b[0m",
      "\u001b[1;31mTypeError\u001b[0m                                 Traceback (most recent call last)",
      "\u001b[1;31mTypeError\u001b[0m: thresh_callback() missing 1 required positional argument: 'grayFrame'"
     ]
    },
    {
     "ename": "TypeError",
     "evalue": "thresh_callback() missing 1 required positional argument: 'grayFrame'",
     "output_type": "error",
     "traceback": [
      "\u001b[1;31m---------------------------------------------------------------------------\u001b[0m",
      "\u001b[1;31mTypeError\u001b[0m                                 Traceback (most recent call last)",
      "\u001b[1;31mTypeError\u001b[0m: thresh_callback() missing 1 required positional argument: 'grayFrame'"
     ]
    },
    {
     "ename": "TypeError",
     "evalue": "thresh_callback() missing 1 required positional argument: 'grayFrame'",
     "output_type": "error",
     "traceback": [
      "\u001b[1;31m---------------------------------------------------------------------------\u001b[0m",
      "\u001b[1;31mTypeError\u001b[0m                                 Traceback (most recent call last)",
      "\u001b[1;31mTypeError\u001b[0m: thresh_callback() missing 1 required positional argument: 'grayFrame'"
     ]
    },
    {
     "ename": "TypeError",
     "evalue": "thresh_callback() missing 1 required positional argument: 'grayFrame'",
     "output_type": "error",
     "traceback": [
      "\u001b[1;31m---------------------------------------------------------------------------\u001b[0m",
      "\u001b[1;31mTypeError\u001b[0m                                 Traceback (most recent call last)",
      "\u001b[1;31mTypeError\u001b[0m: thresh_callback() missing 1 required positional argument: 'grayFrame'"
     ]
    },
    {
     "ename": "TypeError",
     "evalue": "thresh_callback() missing 1 required positional argument: 'grayFrame'",
     "output_type": "error",
     "traceback": [
      "\u001b[1;31m---------------------------------------------------------------------------\u001b[0m",
      "\u001b[1;31mTypeError\u001b[0m                                 Traceback (most recent call last)",
      "\u001b[1;31mTypeError\u001b[0m: thresh_callback() missing 1 required positional argument: 'grayFrame'"
     ]
    }
   ],
   "source": [
    "if __name__ == \"__main__\":\n",
    "    main()"
   ]
  }
 ],
 "metadata": {
  "kernelspec": {
   "display_name": "Python 3",
   "language": "python",
   "name": "python3"
  },
  "language_info": {
   "codemirror_mode": {
    "name": "ipython",
    "version": 3
   },
   "file_extension": ".py",
   "mimetype": "text/x-python",
   "name": "python",
   "nbconvert_exporter": "python",
   "pygments_lexer": "ipython3",
   "version": "3.8.5"
  }
 },
 "nbformat": 4,
 "nbformat_minor": 4
}
